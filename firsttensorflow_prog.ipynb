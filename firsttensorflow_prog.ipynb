{
  "nbformat": 4,
  "nbformat_minor": 0,
  "metadata": {
    "colab": {
      "name": "firsttensorflow prog",
      "provenance": [],
      "authorship_tag": "ABX9TyM+T+houvZ6z1uc1314rccJ",
      "include_colab_link": true
    },
    "kernelspec": {
      "name": "python3",
      "display_name": "Python 3"
    },
    "language_info": {
      "name": "python"
    }
  },
  "cells": [
    {
      "cell_type": "markdown",
      "metadata": {
        "id": "view-in-github",
        "colab_type": "text"
      },
      "source": [
        "<a href=\"https://colab.research.google.com/github/divyasaragada/TENSORFLOW-basics/blob/main/firsttensorflow_prog.ipynb\" target=\"_parent\"><img src=\"https://colab.research.google.com/assets/colab-badge.svg\" alt=\"Open In Colab\"/></a>"
      ]
    },
    {
      "cell_type": "code",
      "metadata": {
        "id": "wlHn9p658jeb"
      },
      "source": [
        "# importing tensorfl\n",
        "import tensorflow.compat.v1 as tf"
      ],
      "execution_count": 16,
      "outputs": []
    },
    {
      "cell_type": "code",
      "metadata": {
        "colab": {
          "base_uri": "https://localhost:8080/"
        },
        "id": "M53Sumww8tcU",
        "outputId": "4eb1859f-68f8-434a-99ae-a570c92db720"
      },
      "source": [
        "# creating nodes in computation graph\n",
        "\n",
        "tf.compat.v1.disable_eager_execution()\n",
        "node1 = tf.constant(3, dtype=tf.int32)\n",
        "node2 = tf.constant(5, dtype=tf.int32)\n",
        "node3 = tf.add(node1, node2)\n",
        "\n",
        "# create tensorflow session \n",
        "sess=tf.Session()\n",
        "# evaluating node3 and printing the result\n",
        "print(sess.run(node3))\n",
        "\n",
        "# closing the session\n",
        "sess.close()"
      ],
      "execution_count": 17,
      "outputs": [
        {
          "output_type": "stream",
          "text": [
            "8\n"
          ],
          "name": "stdout"
        }
      ]
    },
    {
      "cell_type": "code",
      "metadata": {
        "id": "_wnzXkym9oGd"
      },
      "source": [
        "import tensorflow.compat.v1 as tf\n",
        "sess = tf.Session()\n"
      ],
      "execution_count": 5,
      "outputs": []
    }
  ]
}